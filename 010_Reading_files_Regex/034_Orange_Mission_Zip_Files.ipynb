{
 "cells": [
  {
   "cell_type": "markdown",
   "metadata": {},
   "source": [
    "# Orange Mission\n"
   ]
  },
  {
   "cell_type": "markdown",
   "metadata": {
    "collapsed": true
   },
   "source": [
    "Using the hidden link in the blog post, it looks like we have a new riddle to solve. Download and unzip the file from the link.\n",
    "\n",
    "Let's see what we can figure out from it.\n",
    "\n",
    "Best of luck Agent!"
   ]
  },
  {
   "cell_type": "markdown",
   "metadata": {},
   "source": [
    "<hr>\n",
    "\n",
    "### Notes\n",
    "\n",
    "Unzip and extract files\n",
    "\n",
    "List folders, subfolders, files\n",
    "\n",
    "Open instructions file\n",
    "\n",
    "Use regex to extract hiddne URL\n",
    "\n",
    "<hr>"
   ]
  },
  {
   "cell_type": "code",
   "execution_count": 1,
   "metadata": {},
   "outputs": [],
   "source": [
    "# import libraries\n",
    "import os\n",
    "import zipfile\n",
    "import shutil"
   ]
  },
  {
   "cell_type": "code",
   "execution_count": 42,
   "metadata": {},
   "outputs": [
    {
     "data": {
      "text/plain": [
       "'C:\\\\Users\\\\Sajakhta\\\\Desktop\\\\Complete_Python3_Masterclass'"
      ]
     },
     "execution_count": 42,
     "metadata": {},
     "output_type": "execute_result"
    }
   ],
   "source": [
    "os.getcwd() # current working directory"
   ]
  },
  {
   "cell_type": "code",
   "execution_count": 3,
   "metadata": {},
   "outputs": [
    {
     "data": {
      "text/plain": [
       "['.ipynb_checkpoints',\n",
       " '000_example.py',\n",
       " '001_example_notebook.ipynb',\n",
       " '002_Numbers.ipynb',\n",
       " '003_Strings.ipynb',\n",
       " '004_Lists.ipynb',\n",
       " '005_Dictionaries.ipynb',\n",
       " '006_Tuples.ipynb',\n",
       " '007_Sets.ipynb',\n",
       " '008_Booleans.ipynb',\n",
       " '009_Working_with_files.ipynb',\n",
       " '010_Field_Readiness_Exam_One.ipynb',\n",
       " '011_Control_FLow.ipynb',\n",
       " '012_While_loops.ipynb',\n",
       " '013_For_loops.ipynb',\n",
       " '014_Useful_operators.ipynb',\n",
       " '015_List_Comprehensions.ipynb',\n",
       " '016_Field_Readiness_Exam_Two .ipynb',\n",
       " '017_Functions.ipynb',\n",
       " '018_Function_Tasks.ipynb',\n",
       " '019_Nested_Statements_and_Scope.ipynb',\n",
       " '020_Lambda_Expressions_Map_Filter.ipynb',\n",
       " '021_Hacking_Incident.ipynb',\n",
       " '022_OOP.ipynb',\n",
       " '023_OOP_Exercise.ipynb',\n",
       " '024_Errors_Handling_Exceptions.ipynb',\n",
       " '025_Debugging_Datetime.ipynb',\n",
       " '026_myprogram.py',\n",
       " '027_Name_Main.ipynb',\n",
       " '028_Field_Readiness_Final_Test.ipynb',\n",
       " '029_Web_Scraping.ipynb',\n",
       " '030_RED_Mission_Web_Scraping.ipynb',\n",
       " '031_RegEx.ipynb',\n",
       " '032_Opening_Reading_Files.ipynb',\n",
       " '033_Zip_Files.ipynb',\n",
       " '034_Orange_Mission_Zip_Files.ipynb',\n",
       " 'cicada_image_new.jpg',\n",
       " 'exam.txt',\n",
       " 'extracted_content',\n",
       " 'extracted_content2',\n",
       " 'mission',\n",
       " 'mymodule.py',\n",
       " 'my_compressed_info.zip',\n",
       " 'my_new_compressed_file.zip',\n",
       " 'new_file.txt',\n",
       " 'new_file2.txt',\n",
       " 'one.py',\n",
       " 'original.zip',\n",
       " 'Python-Narrative-Journey-master',\n",
       " 'second_file.txt',\n",
       " 'testfile',\n",
       " 'testfile2',\n",
       " 'testfile3',\n",
       " 'test_file.txt',\n",
       " 'third_file.txt',\n",
       " 'two.py',\n",
       " 'unzip_me_for_instructions.zip',\n",
       " 'zipped_folders',\n",
       " '__pycache__']"
      ]
     },
     "execution_count": 3,
     "metadata": {},
     "output_type": "execute_result"
    }
   ],
   "source": [
    "os.listdir() # list files in current directory"
   ]
  },
  {
   "cell_type": "code",
   "execution_count": 4,
   "metadata": {},
   "outputs": [],
   "source": [
    "# fil to unzip 'unzip_me_for_instructions.zip'\n",
    "shutil.unpack_archive('unzip_me_for_instructions.zip', 'orange_mission_instructions','zip' )\n"
   ]
  },
  {
   "cell_type": "code",
   "execution_count": 6,
   "metadata": {},
   "outputs": [
    {
     "data": {
      "text/plain": [
       "['.ipynb_checkpoints',\n",
       " '000_example.py',\n",
       " '001_example_notebook.ipynb',\n",
       " '002_Numbers.ipynb',\n",
       " '003_Strings.ipynb',\n",
       " '004_Lists.ipynb',\n",
       " '005_Dictionaries.ipynb',\n",
       " '006_Tuples.ipynb',\n",
       " '007_Sets.ipynb',\n",
       " '008_Booleans.ipynb',\n",
       " '009_Working_with_files.ipynb',\n",
       " '010_Field_Readiness_Exam_One.ipynb',\n",
       " '011_Control_FLow.ipynb',\n",
       " '012_While_loops.ipynb',\n",
       " '013_For_loops.ipynb',\n",
       " '014_Useful_operators.ipynb',\n",
       " '015_List_Comprehensions.ipynb',\n",
       " '016_Field_Readiness_Exam_Two .ipynb',\n",
       " '017_Functions.ipynb',\n",
       " '018_Function_Tasks.ipynb',\n",
       " '019_Nested_Statements_and_Scope.ipynb',\n",
       " '020_Lambda_Expressions_Map_Filter.ipynb',\n",
       " '021_Hacking_Incident.ipynb',\n",
       " '022_OOP.ipynb',\n",
       " '023_OOP_Exercise.ipynb',\n",
       " '024_Errors_Handling_Exceptions.ipynb',\n",
       " '025_Debugging_Datetime.ipynb',\n",
       " '026_myprogram.py',\n",
       " '027_Name_Main.ipynb',\n",
       " '028_Field_Readiness_Final_Test.ipynb',\n",
       " '029_Web_Scraping.ipynb',\n",
       " '030_RED_Mission_Web_Scraping.ipynb',\n",
       " '031_RegEx.ipynb',\n",
       " '032_Opening_Reading_Files.ipynb',\n",
       " '033_Zip_Files.ipynb',\n",
       " '034_Orange_Mission_Zip_Files.ipynb',\n",
       " 'cicada_image_new.jpg',\n",
       " 'exam.txt',\n",
       " 'extracted_content',\n",
       " 'extracted_content2',\n",
       " 'mission',\n",
       " 'mymodule.py',\n",
       " 'my_compressed_info.zip',\n",
       " 'my_new_compressed_file.zip',\n",
       " 'new_file.txt',\n",
       " 'new_file2.txt',\n",
       " 'one.py',\n",
       " 'orange_mission_instructions',\n",
       " 'original.zip',\n",
       " 'Python-Narrative-Journey-master',\n",
       " 'second_file.txt',\n",
       " 'testfile',\n",
       " 'testfile2',\n",
       " 'testfile3',\n",
       " 'test_file.txt',\n",
       " 'third_file.txt',\n",
       " 'two.py',\n",
       " 'unzip_me_for_instructions.zip',\n",
       " 'zipped_folders',\n",
       " '__pycache__']"
      ]
     },
     "execution_count": 6,
     "metadata": {},
     "output_type": "execute_result"
    }
   ],
   "source": [
    "os.listdir() # list files in current directory\n",
    "# see if 'orange_mission_instructions' is there"
   ]
  },
  {
   "cell_type": "code",
   "execution_count": 7,
   "metadata": {},
   "outputs": [],
   "source": [
    "# list folders, sub-folders, files in 'orange_mission_instructions'\n",
    "my_path = os.getcwd() + '\\\\orange_mission_instructions'"
   ]
  },
  {
   "cell_type": "code",
   "execution_count": 43,
   "metadata": {},
   "outputs": [
    {
     "name": "stdout",
     "output_type": "stream",
     "text": [
      "C:\\Users\\Sajakhta\\Desktop\\Complete_Python3_Masterclass\\orange_mission_instructions\n"
     ]
    }
   ],
   "source": [
    "print(my_path)"
   ]
  },
  {
   "cell_type": "code",
   "execution_count": 13,
   "metadata": {},
   "outputs": [
    {
     "name": "stdout",
     "output_type": "stream",
     "text": [
      "Currently looking at folder: C:\\Users\\Sajakhta\\Desktop\\Complete_Python3_Masterclass\\orange_mission_instructions\n",
      "\n",
      "Sub-folders here are: \n",
      "\tFive\n",
      "\tFour\n",
      "\tOne\n",
      "\tThree\n",
      "\tTwo\n",
      "\n",
      "\n",
      "files here are: \n",
      "\tInstructions.txt\n",
      "\n",
      "\n",
      "Currently looking at folder: C:\\Users\\Sajakhta\\Desktop\\Complete_Python3_Masterclass\\orange_mission_instructions\\Five\n",
      "\n",
      "Sub-folders here are: \n",
      "\n",
      "\n",
      "files here are: \n",
      "\tAEITMYIRQLP.txt\n",
      "\tAPJKSRITGGX.txt\n",
      "\tAQKATDFGXTS.txt\n",
      "\tARLKFCWIAJE.txt\n",
      "\tAXJGVPVEFAS.txt\n",
      "\tBNUQEHCFRTG.txt\n",
      "\tBSKJDRNEZQM.txt\n",
      "\tBTYWAHLHKBM.txt\n",
      "\tBUGKBZWRRVI.txt\n",
      "\tBVBURZZCAPR.txt\n",
      "\tCAHBEVSVDDN.txt\n",
      "\tCOMGMZBJAYE.txt\n",
      "\tCRFSDGYFSHA.txt\n",
      "\tCSCLFZCDYYC.txt\n",
      "\tCXBVCTRBBIE.txt\n",
      "\tDDLASODUVPX.txt\n",
      "\tDHZBAAYEADM.txt\n",
      "\tDQPZQLBCJYP.txt\n",
      "\tDYOPIIVMZOO.txt\n",
      "\tDZUWWXYIAEL.txt\n",
      "\tEAAOEPSAWMQ.txt\n",
      "\tEIPWXMQZJKU.txt\n",
      "\tESIZWBHMGDP.txt\n",
      "\tETCUEXWNBCF.txt\n",
      "\tEYTCGIOYWIW.txt\n",
      "\n",
      "\n",
      "Currently looking at folder: C:\\Users\\Sajakhta\\Desktop\\Complete_Python3_Masterclass\\orange_mission_instructions\\Four\n",
      "\n",
      "Sub-folders here are: \n",
      "\n",
      "\n",
      "files here are: \n",
      "\tECIOBYCDVFI.txt\n",
      "\tEMTGPSXQEJX.txt\n",
      "\tEPRNUHRSESC.txt\n",
      "\tESDIZXHYCVY.txt\n",
      "\tEXVQSVBQQQH.txt\n",
      "\tQCTCKDIBBVG.txt\n",
      "\tQCWCFLKNZMN.txt\n",
      "\tQDDETWBHJYC.txt\n",
      "\tQTDYYIFPHAU.txt\n",
      "\tQVNJULGXNUM.txt\n",
      "\tREAXWSOIQDY.txt\n",
      "\tROICPTWKXDX.txt\n",
      "\tRSXOTNGKBML.txt\n",
      "\tRXDARIDGKBF.txt\n",
      "\tRYNXFYXMKHG.txt\n",
      "\tTAKNAVDMZKV.txt\n",
      "\tTHPNEGKTJWI.txt\n",
      "\tTJFMLJODVAD.txt\n",
      "\tTKCZSFQNJTX.txt\n",
      "\tTWUOYFCCYBQ.txt\n",
      "\tWFSKPTXPFCH.txt\n",
      "\tWHTOHQUWXIN.txt\n",
      "\tWNJISWPEBRS.txt\n",
      "\tWXDJDOGZEHN.txt\n",
      "\tWYDLGSGGXKV.txt\n",
      "\n",
      "\n",
      "Currently looking at folder: C:\\Users\\Sajakhta\\Desktop\\Complete_Python3_Masterclass\\orange_mission_instructions\\One\n",
      "\n",
      "Sub-folders here are: \n",
      "\n",
      "\n",
      "files here are: \n",
      "\tHDOHZHFSTTK.txt\n",
      "\tHFUTPPAXDIS.txt\n",
      "\tHMNZTLIFGPD.txt\n",
      "\tHRQFTHKVJTL.txt\n",
      "\tHVUTZEVMSBW.txt\n",
      "\tJDLRVFCXYLU.txt\n",
      "\tJEHBLZPUPSP.txt\n",
      "\tJLTXKIGCWDL.txt\n",
      "\tJQUOBKFUACN.txt\n",
      "\tJTHSNBNPQSE.txt\n",
      "\tKCXGNQCZBLO.txt\n",
      "\tKFIUZFERLET.txt\n",
      "\tKMMLGJOWLGI.txt\n",
      "\tKNBSKDREHQU.txt\n",
      "\tKTXDHIOKAUI.txt\n",
      "\tLDGOCUQJNNS.txt\n",
      "\tLFEATJAAYDC.txt\n",
      "\tLHODFIKVTQA.txt\n",
      "\tLIFDHOFKWOI.txt\n",
      "\tLPNDVDXPZIG.txt\n",
      "\tPDJMSMNKIRM.txt\n",
      "\tPHWAVPEKAER.txt\n",
      "\tPLYCGPVEAWO.txt\n",
      "\tPQNVCVJINAR.txt\n",
      "\tPTOBBCJYURJ.txt\n",
      "\n",
      "\n",
      "Currently looking at folder: C:\\Users\\Sajakhta\\Desktop\\Complete_Python3_Masterclass\\orange_mission_instructions\\Three\n",
      "\n",
      "Sub-folders here are: \n",
      "\n",
      "\n",
      "files here are: \n",
      "\tVAQIJTDOFUJ.txt\n",
      "\tVCFJCGJFBIH.txt\n",
      "\tVSXFSTABZDY.txt\n",
      "\tVVHFVZUNLOO.txt\n",
      "\tVVKGWLRMHLU.txt\n",
      "\tXAJMCPEWFNI.txt\n",
      "\tXFHJOTNPEJG.txt\n",
      "\tXHZPVUQTXIO.txt\n",
      "\tXJCWENFFGHB.txt\n",
      "\tXVMPVSVYKFR.txt\n",
      "\tYCESZHJDBXH.txt\n",
      "\tYDQFMWXOUMW.txt\n",
      "\tYQBIUHSUEVW.txt\n",
      "\tYQRNCMNFFHW.txt\n",
      "\tYYIZGBTQHZP.txt\n",
      "\tZEZKKRBIZEB.txt\n",
      "\tZKQJXAYKPVD.txt\n",
      "\tZOWVXWPOGWP.txt\n",
      "\tZXEZRQXZNPG.txt\n",
      "\tZXIBJMPROKW.txt\n",
      "\n",
      "\n",
      "Currently looking at folder: C:\\Users\\Sajakhta\\Desktop\\Complete_Python3_Masterclass\\orange_mission_instructions\\Two\n",
      "\n",
      "Sub-folders here are: \n",
      "\n",
      "\n",
      "files here are: \n",
      "\tGKQBQRCTNNK.txt\n",
      "\tGMMQQUBMJNR.txt\n",
      "\tGQTJJORZBXY.txt\n",
      "\tGTOTCIWMDBY.txt\n",
      "\tGXYSEPAFRTP.txt\n",
      "\tHARDNJGDRBC.txt\n",
      "\tHEORIXOTANT.txt\n",
      "\tHMUTDOVNYTV.txt\n",
      "\tHMZXPBOPRAE.txt\n",
      "\tHTOHSTYXTCO.txt\n",
      "\tLCJZYDHBFRM.txt\n",
      "\tLSQSTGPIGIY.txt\n",
      "\tLULTNYAQEJG.txt\n",
      "\tLVMBINRBJXL.txt\n",
      "\tLYZEQCVYNEZ.txt\n",
      "\tOHZOUOSFJQC.txt\n",
      "\tOIHMLGMWTHL.txt\n",
      "\tOKWFOOYTXFU.txt\n",
      "\tOMWIMVRCMYM.txt\n",
      "\tOYMAGXAGWHJ.txt\n",
      "\tSIKFPPLCJDN.txt\n",
      "\tSJMJLDGPBSJ.txt\n",
      "\tSOFUJYXTIMK.txt\n",
      "\tSPDZYGDHEWO.txt\n",
      "\tSWOFXREEHWA.txt\n",
      "\n",
      "\n"
     ]
    }
   ],
   "source": [
    "for folder, sub_folders, files in os.walk(my_path):\n",
    "    print(\"Currently looking at folder: {}\\n\".format(folder))\n",
    "    \n",
    "    print(\"Sub-folders here are: \")    \n",
    "    for sub_folder in sub_folders:\n",
    "        print(\"\\t\" + sub_folder)\n",
    "    print('\\n')\n",
    "    \n",
    "    print(\"files here are: \")\n",
    "    for f in files:\n",
    "        print(\"\\t\" + f)\n",
    "    print('\\n')"
   ]
  },
  {
   "cell_type": "code",
   "execution_count": 22,
   "metadata": {},
   "outputs": [
    {
     "name": "stdout",
     "output_type": "stream",
     "text": [
      "If you are reading this, then you successfully were able to decipher the blog post on The Gold Bugs website to find the link. \n",
      "\n",
      "The link led to a zip file. After unzipping the file you will notice this instructions.txt file and folders with many random txt files in them.\n",
      "\n",
      "Hidden within the text of these files are two links. You should be able to use regex to find the url links which will lead to the next phase as you go through every .txt file programmatically.\n",
      "\n",
      "One link leads to a download of a csv file, another to a set of instructions to follow for that csv file. \n",
      "\n",
      "The links will be in this form (note these are examples of the url form, not the actual links):\n",
      "\n",
      "https://drive.google.com/open?id=1tWJBFrSQL06qTZgkohs4t_a5Cu84AheLo\n",
      "\n",
      "and\n",
      "\n",
      "https://docs.google.com/document/d/Q-DcxM17nJm_El0aGsNnY7FajaogRviwja/edit\n",
      "\n",
      "Note how they start with https:// and then have a series of characters, including dots, underscores, forward slashes, and dashes as well.\n",
      "Use this information for your regular expressions.\n",
      "\n",
      "Download the csv file and follow the instructions in the other link for the next steps.\n",
      "\n",
      "Best of luck.\n"
     ]
    }
   ],
   "source": [
    "# with statement allows you to open files withouth having to worry about closing them\n",
    "with open(os.getcwd() + '\\\\orange_mission_instructions\\\\Instructions.txt') as myfile:\n",
    "    lines = myfile.read()\n",
    "\n",
    "print(lines)"
   ]
  },
  {
   "cell_type": "code",
   "execution_count": 49,
   "metadata": {},
   "outputs": [],
   "source": [
    "import re"
   ]
  },
  {
   "cell_type": "code",
   "execution_count": 50,
   "metadata": {},
   "outputs": [],
   "source": [
    "test_phrase1 = 'https://drive.google.com/open?id=1tWJBFrSQL06qTZgkohs4t_a5Cu84AheLo'"
   ]
  },
  {
   "cell_type": "code",
   "execution_count": 51,
   "metadata": {},
   "outputs": [],
   "source": [
    "test_phrase2 = 'https://docs.google.com/document/d/Q-DcxM17nJm_El0aGsNnY7FajaogRviwja/edit'"
   ]
  },
  {
   "cell_type": "code",
   "execution_count": 60,
   "metadata": {},
   "outputs": [],
   "source": [
    "# URL regex pattern\n",
    "pattern = r'https://[-?_=./\\w]+'\n",
    "# cater for a Group [] of special character (_ . - ? =) and alphanumeric (\\w); \n",
    "# add + to cater for 1 or more character in that group"
   ]
  },
  {
   "cell_type": "code",
   "execution_count": 61,
   "metadata": {},
   "outputs": [
    {
     "data": {
      "text/plain": [
       "['https://drive.google.com/open?id=1tWJBFrSQL06qTZgkohs4t_a5Cu84AheLo']"
      ]
     },
     "execution_count": 61,
     "metadata": {},
     "output_type": "execute_result"
    }
   ],
   "source": [
    "re.findall(pattern, test_phrase1)"
   ]
  },
  {
   "cell_type": "code",
   "execution_count": 62,
   "metadata": {},
   "outputs": [
    {
     "data": {
      "text/plain": [
       "['https://docs.google.com/document/d/Q-DcxM17nJm_El0aGsNnY7FajaogRviwja/edit']"
      ]
     },
     "execution_count": 62,
     "metadata": {},
     "output_type": "execute_result"
    }
   ],
   "source": [
    "re.findall(pattern, test_phrase2)"
   ]
  },
  {
   "cell_type": "code",
   "execution_count": 67,
   "metadata": {},
   "outputs": [],
   "source": [
    "# create a function\n",
    "def search_for_pattern(file, pattern=r'https://[-?_=./\\w]+'):\n",
    "    f = open(file, 'r')\n",
    "    text = f.read()\n",
    "    \n",
    "    if re.search(pattern, text):\n",
    "        # if there is a match, return match\n",
    "        return re.search(pattern, text)\n",
    "    else:\n",
    "        # else return blank string\n",
    "        return ''\n",
    "    "
   ]
  },
  {
   "cell_type": "code",
   "execution_count": 82,
   "metadata": {},
   "outputs": [],
   "source": [
    "results = [] # placeholder for matches"
   ]
  },
  {
   "cell_type": "code",
   "execution_count": 83,
   "metadata": {},
   "outputs": [],
   "source": [
    "# walk through files and run search_for_pattern(file) function for each file\n",
    "for folder, sub_folders, files in os.walk('orange_mission_instructions'):\n",
    "    \n",
    "    for f in files:\n",
    "        \n",
    "        if f != 'Instructions.txt': # exclude the Instructions.txt file\n",
    "            \n",
    "            # file path = folder path + file name\n",
    "            full_path = folder+'\\\\'+f\n",
    "\n",
    "            # run search function\n",
    "            findings = search_for_pattern(full_path)\n",
    "\n",
    "            # append findings to results placholder if not an empty string\n",
    "            if findings != '':\n",
    "                results.append(findings)           \n",
    "    "
   ]
  },
  {
   "cell_type": "code",
   "execution_count": 84,
   "metadata": {},
   "outputs": [
    {
     "name": "stdout",
     "output_type": "stream",
     "text": [
      "2\n"
     ]
    }
   ],
   "source": [
    "print(len(results))"
   ]
  },
  {
   "cell_type": "code",
   "execution_count": 86,
   "metadata": {},
   "outputs": [
    {
     "name": "stdout",
     "output_type": "stream",
     "text": [
      "https://docs.google.com/document/d/1tWJBFrSQL06qTZgkohs4t_a5Cu84AheLocWTXQ-DcxM/edit?usp=sharing\n",
      "https://drive.google.com/file/d/17nJm_El0aGsNvaMZtnY7FajaogRviwja/view?usp=sharing\n"
     ]
    }
   ],
   "source": [
    "for result in results:\n",
    "    print(result.group()) # print only the matched part of the regex result object"
   ]
  },
  {
   "cell_type": "markdown",
   "metadata": {},
   "source": [
    "This was the first example link from instructions.txt: https://drive.google.com/open?id=1tWJBFrSQL06qTZgkohs4t_a5Cu84AheLo\n",
    "\n",
    "This is the next set of instructions: https://docs.google.com/document/d/1tWJBFrSQL06qTZgkohs4t_a5Cu84AheLocWTXQ-DcxM/edit?usp=sharing\n",
    "\n",
    "This is the CSV: https://drive.google.com/file/d/17nJm_El0aGsNvaMZtnY7FajaogRviwja/view?usp=sharing\n"
   ]
  },
  {
   "cell_type": "code",
   "execution_count": null,
   "metadata": {},
   "outputs": [],
   "source": []
  },
  {
   "cell_type": "code",
   "execution_count": null,
   "metadata": {},
   "outputs": [],
   "source": []
  }
 ],
 "metadata": {
  "anaconda-cloud": {},
  "kernelspec": {
   "display_name": "Python 3",
   "language": "python",
   "name": "python3"
  },
  "language_info": {
   "codemirror_mode": {
    "name": "ipython",
    "version": 3
   },
   "file_extension": ".py",
   "mimetype": "text/x-python",
   "name": "python",
   "nbconvert_exporter": "python",
   "pygments_lexer": "ipython3",
   "version": "3.7.4"
  }
 },
 "nbformat": 4,
 "nbformat_minor": 2
}
