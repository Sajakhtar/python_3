{
 "cells": [
  {
   "cell_type": "markdown",
   "metadata": {},
   "source": [
    "# Error Handling and Exceptions\n",
    "\n",
    "    try:\n",
    "        # You attempt your operation here\n",
    "    except ExceptionI:\n",
    "        # If there is ExceptionI, then execute this block\n",
    "    except ExceptionII:\n",
    "        # If there is ExceptionII, then execute this block\n",
    "    else:\n",
    "        # If there is no exception then execute this block"
   ]
  },
  {
   "cell_type": "code",
   "execution_count": 1,
   "metadata": {},
   "outputs": [],
   "source": [
    "# https://docs.python.org/3.3/library/exceptions.html\n",
    "# Built-in errors"
   ]
  },
  {
   "cell_type": "code",
   "execution_count": 2,
   "metadata": {},
   "outputs": [
    {
     "name": "stdout",
     "output_type": "stream",
     "text": [
      "You're trying to sum an integer to a string type\n"
     ]
    }
   ],
   "source": [
    "try:\n",
    "    1+'2'\n",
    "except TypeError:\n",
    "    print(\"You're trying to sum an integer to a string type\")\n",
    "else:\n",
    "    print(\"everything ran smoothly\")"
   ]
  },
  {
   "cell_type": "code",
   "execution_count": 6,
   "metadata": {},
   "outputs": [
    {
     "name": "stdout",
     "output_type": "stream",
     "text": [
      "Please Enter a number: 4\n",
      "everything ran smoothly\n"
     ]
    }
   ],
   "source": [
    "try:\n",
    "    result = input(\"Please Enter a number: \")\n",
    "    1 + int(result)\n",
    "except TypeError:\n",
    "    print(\"You're trying to sum an integer to a string type.\")\n",
    "except ValueError:\n",
    "    print(\"You entered an invalid value. Input must be a number.\")\n",
    "else:\n",
    "    print(\"everything ran smoothly\")"
   ]
  },
  {
   "cell_type": "code",
   "execution_count": 8,
   "metadata": {},
   "outputs": [
    {
     "name": "stdout",
     "output_type": "stream",
     "text": [
      "Please Enter a number: \n",
      "Error occurred\n"
     ]
    }
   ],
   "source": [
    "try:\n",
    "    result = input(\"Please Enter a number: \")\n",
    "    1 + int(result)\n",
    "except: # catch all errors, so you don't need to memorize all error types\n",
    "    print(\"Error occurred\")\n",
    "else:\n",
    "    print(\"everything ran smoothly\")"
   ]
  },
  {
   "cell_type": "code",
   "execution_count": 15,
   "metadata": {},
   "outputs": [
    {
     "name": "stdout",
     "output_type": "stream",
     "text": [
      "Error occurred\n"
     ]
    }
   ],
   "source": [
    "try:\n",
    "    f = open('testfile', 'r') # should be 'w' write mode\n",
    "    f.write('hello')\n",
    "except:\n",
    "    print(\"Error occurred\")\n",
    "else:\n",
    "    print(\"everything ran smoothly\")"
   ]
  },
  {
   "cell_type": "code",
   "execution_count": 17,
   "metadata": {},
   "outputs": [
    {
     "name": "stdout",
     "output_type": "stream",
     "text": [
      "Error occurred\n",
      "final block of code\n"
     ]
    }
   ],
   "source": [
    "try:\n",
    "    f = open('testfile', 'r') # should be 'w' write mode\n",
    "    f.write('hello')\n",
    "except:\n",
    "    print(\"Error occurred\")\n",
    "finally:\n",
    "    print(\"final block of code\")"
   ]
  },
  {
   "cell_type": "code",
   "execution_count": null,
   "metadata": {},
   "outputs": [],
   "source": []
  }
 ],
 "metadata": {
  "kernelspec": {
   "display_name": "Python 3",
   "language": "python",
   "name": "python3"
  },
  "language_info": {
   "codemirror_mode": {
    "name": "ipython",
    "version": 3
   },
   "file_extension": ".py",
   "mimetype": "text/x-python",
   "name": "python",
   "nbconvert_exporter": "python",
   "pygments_lexer": "ipython3",
   "version": "3.7.4"
  }
 },
 "nbformat": 4,
 "nbformat_minor": 2
}
