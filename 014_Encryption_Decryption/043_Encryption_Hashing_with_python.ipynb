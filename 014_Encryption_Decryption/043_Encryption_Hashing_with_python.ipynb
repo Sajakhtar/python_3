{
 "cells": [
  {
   "cell_type": "markdown",
   "metadata": {},
   "source": [
    "# Encryption and Hashing with Python\n",
    "\n",
    "We've experimented with creating simple ciphers for encryption, but for true encryption purposes, we will want to make sure to use well established protocols and alogrithms, as the simple ciphers we've created can still be easily broken through simple techniques such as frequency analysis. Let's explore to concepts in cryptography, hashing and encryption. We will explore real libraries for this instead of creating our own methods. \n",
    "\n",
    "## Hashing\n",
    "\n",
    "Hashing refers to the process of passing information through a hashfunciton. A hash function is any function that can be used to map data of arbitrary size to data of fixed size. The values returned by a hash function are called hash values, hash codes, digests, or simply hashes. \n",
    "\n",
    "In the context of security, hashing refers to taking a piece of data, such as a document or password, and passing it through a cryptographically secure hash function that is close to impossible to reverse. This allows for secure storage of passwords. For example, when you type a password into Gmail, the password is passed through a hash function that turns it into a hashed version of your password, which can be thought of as a mix of letters and numbers. Gmail then checks that the hash you provided matches the hash they have on file, if it does, they let you log in. This is secure, because even if someone \"hacks\" Gmail's servers and can see everything, they only will have access to the hashed versions of the passwords, which are close to impossible to reverse. \n",
    "\n",
    "There are [many hashing algorithms](https://en.wikipedia.org/wiki/Cryptographic_hash_function), some older ones such as MD5 have been deemed to insecure to still be used. Some of the most popular cryptographic hash functions were created by the NSA.\n",
    "\n",
    "The ideal cryptographic hash function has five main properties:\n",
    "\n",
    "* it is deterministic so the same message always results in the same hash\n",
    "* it is quick to compute the hash value for any given message\n",
    "* it is infeasible to generate a message from its hash value except by trying all possible messages\n",
    "* a small change to a message should change the hash value so extensively that the new hash value appears uncorrelated with the old hash value\n",
    "* it is infeasible to find two different messages with the same hash value\n",
    "\n",
    "Let's explore hashing with Python's built in hashlib module"
   ]
  },
  {
   "cell_type": "code",
   "execution_count": 1,
   "metadata": {},
   "outputs": [],
   "source": [
    "import hashlib"
   ]
  },
  {
   "cell_type": "markdown",
   "metadata": {},
   "source": [
    "As you can see there are many algorithms available, most of these algorithms have their own dedicated documentation you can find with a quick google search."
   ]
  },
  {
   "cell_type": "code",
   "execution_count": 4,
   "metadata": {},
   "outputs": [
    {
     "data": {
      "text/plain": [
       "{'blake2b',\n",
       " 'blake2b512',\n",
       " 'blake2s',\n",
       " 'blake2s256',\n",
       " 'md4',\n",
       " 'md5',\n",
       " 'md5-sha1',\n",
       " 'mdc2',\n",
       " 'ripemd160',\n",
       " 'sha1',\n",
       " 'sha224',\n",
       " 'sha256',\n",
       " 'sha3-224',\n",
       " 'sha3-256',\n",
       " 'sha3-384',\n",
       " 'sha3-512',\n",
       " 'sha384',\n",
       " 'sha3_224',\n",
       " 'sha3_256',\n",
       " 'sha3_384',\n",
       " 'sha3_512',\n",
       " 'sha512',\n",
       " 'sha512-224',\n",
       " 'sha512-256',\n",
       " 'shake128',\n",
       " 'shake256',\n",
       " 'shake_128',\n",
       " 'shake_256',\n",
       " 'sm3',\n",
       " 'whirlpool'}"
      ]
     },
     "execution_count": 4,
     "metadata": {},
     "output_type": "execute_result"
    }
   ],
   "source": [
    "hashlib.algorithms_available\n",
    "# Some not recommended e.g. MD4 MD5\n",
    "# Other are cutting edge e.g. Blake, SHA3\n",
    "# can download more alogorithms as well"
   ]
  },
  {
   "cell_type": "markdown",
   "metadata": {},
   "source": [
    "We can create a hash object that will allow us to use an algorithm to create a hexdigest version of the string provided. Remember that hashes are one-way only, for two way wait until we discuss encryption and decryption."
   ]
  },
  {
   "cell_type": "code",
   "execution_count": 6,
   "metadata": {},
   "outputs": [],
   "source": [
    "hash_obj = hashlib.sha3_256()\n",
    "# sha3-256 created in open competition by NSA"
   ]
  },
  {
   "cell_type": "code",
   "execution_count": 7,
   "metadata": {},
   "outputs": [],
   "source": [
    "hash_obj.update(b'hello') # byte string"
   ]
  },
  {
   "cell_type": "code",
   "execution_count": 9,
   "metadata": {},
   "outputs": [
    {
     "data": {
      "text/plain": [
       "'3338be694f50c5f338814986cdf0686453a888b84f424d792af4b9202398f392'"
      ]
     },
     "execution_count": 9,
     "metadata": {},
     "output_type": "execute_result"
    }
   ],
   "source": [
    "hash_obj.hexdigest() # the hashed output of the byte string"
   ]
  },
  {
   "cell_type": "markdown",
   "metadata": {},
   "source": [
    "Now let's try to make a minimal change to the string and see how much the hash changes:"
   ]
  },
  {
   "cell_type": "code",
   "execution_count": 10,
   "metadata": {},
   "outputs": [],
   "source": [
    "hash_obj.update(b'Hello')  # upper case the H"
   ]
  },
  {
   "cell_type": "code",
   "execution_count": 11,
   "metadata": {},
   "outputs": [
    {
     "data": {
      "text/plain": [
       "'dbf2373d7f1f49c6bc4ded308a7d22426b376d7c028619fc03d8a0daa14d307d'"
      ]
     },
     "execution_count": 11,
     "metadata": {},
     "output_type": "execute_result"
    }
   ],
   "source": [
    "hash_obj.hexdigest() # encrypted output is completely different"
   ]
  },
  {
   "cell_type": "markdown",
   "metadata": {},
   "source": [
    "## Encryption\n",
    "\n",
    "Now that understand how hashing works with the built-in hashlib library in Python, let's explore encryption. For this we will need to install another open source library, simply known as cryptography. Install it by running the following at your command line:\n",
    "\n",
    "    pip install cryptography\n",
    "    \n",
    "Encryption is a hard problem, because now you need to be able to go both ways, encrypt a message so that others can't read it, but then also be able to have someone with the proper access be able to read the message as well. You also need to be able to try to prevent people from using techniques such as [frequency analysis](https://en.wikipedia.org/wiki/Frequency_analysis) or other decryption methods. [Cryptography itself is heavily rooted in mathematics and interested parties should definitely read about the amazing history of the topic.](https://en.wikipedia.org/wiki/Cryptography#Modern_cryptography)\n",
    "\n",
    "For our use cases we will use a simple private-key cryptograph. In this situation we will generate a \"secret\" key, that allows someone to decrypt our message. We will then use this key to create a cipher that can encrypt or decrypt messages that use that secret key.\n",
    "\n",
    "Let's see an example:"
   ]
  },
  {
   "cell_type": "code",
   "execution_count": 12,
   "metadata": {},
   "outputs": [],
   "source": [
    "from cryptography.fernet import Fernet"
   ]
  },
  {
   "cell_type": "code",
   "execution_count": 13,
   "metadata": {},
   "outputs": [],
   "source": [
    "key = Fernet.generate_key()"
   ]
  },
  {
   "cell_type": "code",
   "execution_count": 14,
   "metadata": {},
   "outputs": [
    {
     "data": {
      "text/plain": [
       "b'9TKSwUSH5fIxxIIzZ2Py1FSgVGkcIvrOwWgVAAWrZHU='"
      ]
     },
     "execution_count": 14,
     "metadata": {},
     "output_type": "execute_result"
    }
   ],
   "source": [
    "key"
   ]
  },
  {
   "cell_type": "code",
   "execution_count": 15,
   "metadata": {},
   "outputs": [],
   "source": [
    "cipher = Fernet(key)"
   ]
  },
  {
   "cell_type": "markdown",
   "metadata": {},
   "source": [
    "Now let's encrypt a simple message."
   ]
  },
  {
   "cell_type": "code",
   "execution_count": 16,
   "metadata": {},
   "outputs": [
    {
     "data": {
      "text/plain": [
       "b'gAAAAABegtESrTtgH_26yZfkilnCIz_BAjsb0mEnscVjSuJXeY5HUuU4wexOVFFJ3Gy057bFX3cUQtKLdOxhZz0zOQMhkCrMTrRvV9UBB-3nXLZJTLjl75s='"
      ]
     },
     "execution_count": 16,
     "metadata": {},
     "output_type": "execute_result"
    }
   ],
   "source": [
    "cipher.encrypt(b'Hello are you there?')"
   ]
  },
  {
   "cell_type": "code",
   "execution_count": 17,
   "metadata": {},
   "outputs": [],
   "source": [
    "text = b'Hello are you there?' # Note the b'' in front of the string"
   ]
  },
  {
   "cell_type": "code",
   "execution_count": 18,
   "metadata": {},
   "outputs": [],
   "source": [
    "encrypted_text = cipher.encrypt(text)"
   ]
  },
  {
   "cell_type": "code",
   "execution_count": 19,
   "metadata": {},
   "outputs": [
    {
     "data": {
      "text/plain": [
       "b'gAAAAABegtFnVxMziEpphskPBSVmN6GZqwtXKjILGgwxboGw77xG7Im_Zc67fUwi1hqGxI28fXXF0m-LsqqfC6IlWc4XPqmIPii030G9zLIhIlIooHawCX4='"
      ]
     },
     "execution_count": 19,
     "metadata": {},
     "output_type": "execute_result"
    }
   ],
   "source": [
    "encrypted_text"
   ]
  },
  {
   "cell_type": "markdown",
   "metadata": {},
   "source": [
    "Now it becomes a very difficult task for someone to try to decode what is in this message without the secret key. With the key however, we can easily decrypt it:"
   ]
  },
  {
   "cell_type": "code",
   "execution_count": 20,
   "metadata": {},
   "outputs": [],
   "source": [
    "other_cipher = Fernet(key) # The other user could create their own cipher"
   ]
  },
  {
   "cell_type": "code",
   "execution_count": 22,
   "metadata": {},
   "outputs": [],
   "source": [
    "decrypted_text = other_cipher.decrypt(encrypted_text)"
   ]
  },
  {
   "cell_type": "code",
   "execution_count": 23,
   "metadata": {},
   "outputs": [
    {
     "data": {
      "text/plain": [
       "b'Hello are you there?'"
      ]
     },
     "execution_count": 23,
     "metadata": {},
     "output_type": "execute_result"
    }
   ],
   "source": [
    "decrypted_text"
   ]
  },
  {
   "cell_type": "markdown",
   "metadata": {},
   "source": [
    "### Creating Custom Key\n",
    "\n",
    "So far we've only generated keys. These keys are SHA256 hashes. If we wanted to generate our own key that is a simple string, we could pass that simple string through the SHA256 algorithm and then use that hash as the Fernet key. We can do this using the [base64 library](https://docs.python.org/3/library/base64.html).\n",
    "\n",
    "**Please note, that in general this process of creating a custom password from a string is not recommended, as it will lead to passwords that are not as secure as the ones generated by the cryptography library. [Full Discussion Link](https://github.com/pyca/cryptography/issues/1333).**\n",
    "\n",
    "Let's look at an example:"
   ]
  },
  {
   "cell_type": "code",
   "execution_count": 25,
   "metadata": {},
   "outputs": [],
   "source": [
    "keyword = b'my custom string' # Create the keyword string password"
   ]
  },
  {
   "cell_type": "code",
   "execution_count": 26,
   "metadata": {},
   "outputs": [],
   "source": [
    "# Use SHA3 256 bit to Hash the keyword string\n",
    "key = hashlib.sha3_256(keyword)"
   ]
  },
  {
   "cell_type": "code",
   "execution_count": 27,
   "metadata": {},
   "outputs": [
    {
     "data": {
      "text/plain": [
       "<_sha3.sha3_256 at 0x2a2cf433530>"
      ]
     },
     "execution_count": 27,
     "metadata": {},
     "output_type": "execute_result"
    }
   ],
   "source": [
    "key"
   ]
  },
  {
   "cell_type": "code",
   "execution_count": 30,
   "metadata": {},
   "outputs": [
    {
     "data": {
      "text/plain": [
       "b'\\x86\\x04<\\x12\\xb1\\xbc\\x97\\xa2\\xc3hd\\x1b\\xdf\\xcb\\xa6\\xa6\\x88\\x1bSU<kE\\xd2\\x13\\xdf\\x7f\\xca\\xb7\\x91,\\x81'"
      ]
     },
     "execution_count": 30,
     "metadata": {},
     "output_type": "execute_result"
    }
   ],
   "source": [
    "# Get the digest - this is not the format that Fernet can accept, need to encode to base64\n",
    "key.digest()"
   ]
  },
  {
   "cell_type": "code",
   "execution_count": 31,
   "metadata": {},
   "outputs": [
    {
     "data": {
      "text/plain": [
       "'86043c12b1bc97a2c368641bdfcba6a6881b53553c6b45d213df7fcab7912c81'"
      ]
     },
     "execution_count": 31,
     "metadata": {},
     "output_type": "execute_result"
    }
   ],
   "source": [
    "key.hexdigest()"
   ]
  },
  {
   "cell_type": "markdown",
   "metadata": {},
   "source": [
    "Now we need to necode the digest to base64 to have it in a format that Fernet will accept:"
   ]
  },
  {
   "cell_type": "code",
   "execution_count": 32,
   "metadata": {},
   "outputs": [],
   "source": [
    "import base64"
   ]
  },
  {
   "cell_type": "code",
   "execution_count": 33,
   "metadata": {},
   "outputs": [],
   "source": [
    "# The bytes digest\n",
    "key_bytes = key.digest()\n",
    "\n",
    "# Encode the bytes digest\n",
    "fernet_key = base64.urlsafe_b64encode(key_bytes)"
   ]
  },
  {
   "cell_type": "code",
   "execution_count": 34,
   "metadata": {},
   "outputs": [
    {
     "data": {
      "text/plain": [
       "b'hgQ8ErG8l6LDaGQb38umpogbU1U8a0XSE99_yreRLIE='"
      ]
     },
     "execution_count": 34,
     "metadata": {},
     "output_type": "execute_result"
    }
   ],
   "source": [
    "fernet_key"
   ]
  },
  {
   "cell_type": "code",
   "execution_count": 35,
   "metadata": {},
   "outputs": [],
   "source": [
    "custom_cipher = Fernet(fernet_key)"
   ]
  },
  {
   "cell_type": "code",
   "execution_count": 37,
   "metadata": {},
   "outputs": [],
   "source": [
    "encrypted_msg = custom_cipher.encrypt(b'this is a secret message')"
   ]
  },
  {
   "cell_type": "code",
   "execution_count": 38,
   "metadata": {},
   "outputs": [
    {
     "data": {
      "text/plain": [
       "b'gAAAAABegtQEm5_7Zc5zu5TFc1ARWlvBnD58UawnIwiuaH87NZRZcLmzkudgi-gKYe5SV0oPqKQN1FO1S9sT7MdN7i_WGOBmyfu9lV6LFkTqNXf1qZmgMDE='"
      ]
     },
     "execution_count": 38,
     "metadata": {},
     "output_type": "execute_result"
    }
   ],
   "source": [
    "encrypted_msg"
   ]
  },
  {
   "cell_type": "code",
   "execution_count": 39,
   "metadata": {},
   "outputs": [
    {
     "data": {
      "text/plain": [
       "b'this is a secret message'"
      ]
     },
     "execution_count": 39,
     "metadata": {},
     "output_type": "execute_result"
    }
   ],
   "source": [
    "custom_cipher.decrypt(encrypted_msg)"
   ]
  },
  {
   "cell_type": "markdown",
   "metadata": {},
   "source": [
    "_____\n",
    "Excellent work agent! Its time to apply this to the field!"
   ]
  }
 ],
 "metadata": {
  "kernelspec": {
   "display_name": "Python 3",
   "language": "python",
   "name": "python3"
  },
  "language_info": {
   "codemirror_mode": {
    "name": "ipython",
    "version": 3
   },
   "file_extension": ".py",
   "mimetype": "text/x-python",
   "name": "python",
   "nbconvert_exporter": "python",
   "pygments_lexer": "ipython3",
   "version": "3.7.4"
  }
 },
 "nbformat": 4,
 "nbformat_minor": 2
}
