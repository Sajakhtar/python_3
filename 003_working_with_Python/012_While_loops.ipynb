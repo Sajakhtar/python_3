{
 "cells": [
  {
   "cell_type": "code",
   "execution_count": 3,
   "metadata": {},
   "outputs": [
    {
     "name": "stdout",
     "output_type": "stream",
     "text": [
      "x is currently:\n",
      "0\n",
      "x is still less than 3, add 1 to x\n",
      "\n",
      "\n",
      "x is currently:\n",
      "1\n",
      "x is still less than 3, add 1 to x\n",
      "\n",
      "\n",
      "x is currently:\n",
      "2\n",
      "x is still less than 3, add 1 to x\n",
      "\n",
      "\n",
      "x is currently:\n",
      "3\n",
      "x is still less than 3, add 1 to x\n",
      "\n",
      "\n"
     ]
    }
   ],
   "source": [
    "x = 0\n",
    "\n",
    "while x <= 3:\n",
    "    print('x is currently:')\n",
    "    print(x)\n",
    "    print('x is still less than 3, add 1 to x')\n",
    "    x = x + 1\n",
    "    print('\\n')"
   ]
  },
  {
   "cell_type": "code",
   "execution_count": 7,
   "metadata": {},
   "outputs": [
    {
     "name": "stdout",
     "output_type": "stream",
     "text": [
      "please input a number: 5\n"
     ]
    }
   ],
   "source": [
    "saved_input = input('please input a number: ')"
   ]
  },
  {
   "cell_type": "code",
   "execution_count": 8,
   "metadata": {},
   "outputs": [
    {
     "data": {
      "text/plain": [
       "'5'"
      ]
     },
     "execution_count": 8,
     "metadata": {},
     "output_type": "execute_result"
    }
   ],
   "source": [
    "saved_input"
   ]
  },
  {
   "cell_type": "code",
   "execution_count": 11,
   "metadata": {},
   "outputs": [
    {
     "name": "stdout",
     "output_type": "stream",
     "text": [
      "Welcome Agent\n",
      "please provide your passcode: 12\n",
      "please provide your passcode: 123\n"
     ]
    }
   ],
   "source": [
    "print(\"Welcome Agent\")\n",
    "\n",
    "passcode = 0\n",
    "\n",
    "while passcode != 123:\n",
    "    passcode = int(input('please provide your passcode: '))"
   ]
  },
  {
   "cell_type": "code",
   "execution_count": 13,
   "metadata": {},
   "outputs": [
    {
     "data": {
      "text/plain": [
       "False"
      ]
     },
     "execution_count": 13,
     "metadata": {},
     "output_type": "execute_result"
    }
   ],
   "source": [
    "'123' == 123"
   ]
  },
  {
   "cell_type": "code",
   "execution_count": 14,
   "metadata": {},
   "outputs": [
    {
     "data": {
      "text/plain": [
       "True"
      ]
     },
     "execution_count": 14,
     "metadata": {},
     "output_type": "execute_result"
    }
   ],
   "source": [
    "int('123') == 123"
   ]
  },
  {
   "cell_type": "code",
   "execution_count": 15,
   "metadata": {},
   "outputs": [
    {
     "data": {
      "text/plain": [
       "True"
      ]
     },
     "execution_count": 15,
     "metadata": {},
     "output_type": "execute_result"
    }
   ],
   "source": [
    "'123' == str(123)"
   ]
  },
  {
   "cell_type": "code",
   "execution_count": 18,
   "metadata": {},
   "outputs": [
    {
     "name": "stdout",
     "output_type": "stream",
     "text": [
      "Welcome Agent\n",
      "please provide your passcode: 12\n",
      "Wrong Passcode\n",
      "Try again\n",
      "\n",
      "\n",
      "please provide your passcode: 324\n",
      "Wrong Passcode\n",
      "Try again\n",
      "\n",
      "\n",
      "please provide your passcode: 123\n",
      "Correct passcode\n"
     ]
    }
   ],
   "source": [
    "print(\"Welcome Agent\")\n",
    "\n",
    "passcode = 0\n",
    "\n",
    "while passcode != 123:\n",
    "    passcode = int(input('please provide your passcode: '))\n",
    "    \n",
    "    if passcode != 123:\n",
    "        print('Wrong Passcode')\n",
    "        print('Try again')\n",
    "        print('\\n')\n",
    "\n",
    "print(\"Correct passcode\")"
   ]
  },
  {
   "cell_type": "code",
   "execution_count": 21,
   "metadata": {},
   "outputs": [
    {
     "name": "stdout",
     "output_type": "stream",
     "text": [
      "0\n",
      "1\n",
      "2\n",
      "3\n",
      "4\n",
      "5\n",
      "6\n"
     ]
    }
   ],
   "source": [
    "x = 0\n",
    "\n",
    "while x<10:\n",
    "    print(x)\n",
    "    x = x+1\n",
    "    \n",
    "    if x==7:\n",
    "        break"
   ]
  },
  {
   "cell_type": "code",
   "execution_count": null,
   "metadata": {},
   "outputs": [],
   "source": []
  }
 ],
 "metadata": {
  "kernelspec": {
   "display_name": "Python 3",
   "language": "python",
   "name": "python3"
  },
  "language_info": {
   "codemirror_mode": {
    "name": "ipython",
    "version": 3
   },
   "file_extension": ".py",
   "mimetype": "text/x-python",
   "name": "python",
   "nbconvert_exporter": "python",
   "pygments_lexer": "ipython3",
   "version": "3.7.4"
  }
 },
 "nbformat": 4,
 "nbformat_minor": 2
}
