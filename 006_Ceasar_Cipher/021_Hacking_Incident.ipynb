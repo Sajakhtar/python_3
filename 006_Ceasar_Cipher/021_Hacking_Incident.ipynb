{
 "cells": [
  {
   "cell_type": "markdown",
   "metadata": {},
   "source": [
    "# Hacking Incident\n",
    "\n",
    "We're being hacked recruit! We need your help to get a message to the main server.\n",
    "\n",
    "We need you to accomplish 3 tasks:\n",
    "\n",
    "1. Create a Caeser cipher encryption function.\n",
    "2. Create another function that decrypts a Caeser cipher message.\n",
    "3. Create a function that will brute force every possible output for an encrypted Caeser cipher.\n",
    "\n",
    "We've set up a framework for you to follow here in this notebook. Feel free to use it, or create your own base functions."
   ]
  },
  {
   "cell_type": "markdown",
   "metadata": {},
   "source": [
    "## Encryption Function\n",
    "\n",
    "This function should take in two parameters, the plain text message and the shift number for the Caeser cipher.\n",
    "\n",
    "To create the cipher you will need to create a list of the alphabet. You can either write out the alphabet manually, or use the [string library](https://docs.python.org/3/library/string.html?highlight=string#module-string) to get all the lowercase alphabet. You will first need to run *import string* , and then call the attribute. For example:\n",
    "\n",
    "    import string\n",
    "    alphabet = string.ascii_lowercase\n",
    "    print(alphabet)\n",
    "    print(list(alphabet))\n",
    "    \n",
    "An empty function with some comments is here below for you to fill out:"
   ]
  },
  {
   "cell_type": "code",
   "execution_count": 61,
   "metadata": {},
   "outputs": [],
   "source": [
    "def encrypt(text,shift):\n",
    "    '''\n",
    "    INPUT: text as a string and an integer for the shift value.\n",
    "    OUTPUT: The shifted text after being run through the Caeser cipher.\n",
    "    '''\n",
    "    \n",
    "    # Create a normal plain alphabet\n",
    "    import string\n",
    "    alphabet = string.ascii_lowercase\n",
    "    alpha_list = list(alphabet)\n",
    "    #print(alphabet)\n",
    "    #print(list(alphabet))\n",
    "    \n",
    "    # Create a shifted version of this alphabet \n",
    "    # (Try slicing using the shift and then reconcatenating the two parts)\n",
    "    caeser = alphabet[shift:] + alphabet[:shift]\n",
    "    caeser_list = list(caeser)\n",
    "    #print(caeser)\n",
    "    #print(caeser_list)\n",
    "    \n",
    "    # Use a for loop to go through each character in the original message.\n",
    "    # Then figure out its index match in the shifted alphabet and replace.\n",
    "    # It might be helpful to create an output variable to hold the new message.\n",
    "    punctuation = list(string.punctuation + string.whitespace)\n",
    "    #print(punctuation)\n",
    "    \n",
    "    output = []\n",
    "    for letter in list(text.lower()):\n",
    "        if letter in punctuation:\n",
    "            output.append(letter)\n",
    "        else:\n",
    "            index = alphabet.index(letter)\n",
    "            output.append(caeser[index])    \n",
    "    \n",
    "    \n",
    "    # Keep in mind you may want to skip punctuation with an if statement.\n",
    "    \n",
    "    # Return the shifted message. Use ''.join() method \n",
    "    # if you still have it as a list.\n",
    "    return \"\".join(output)\n",
    "            \n",
    "    #pass"
   ]
  },
  {
   "cell_type": "markdown",
   "metadata": {},
   "source": [
    "** An example input and output: **"
   ]
  },
  {
   "cell_type": "code",
   "execution_count": 62,
   "metadata": {},
   "outputs": [
    {
     "data": {
      "text/plain": [
       "'trg guvf zrffntr gb gur znva freire'"
      ]
     },
     "execution_count": 62,
     "metadata": {},
     "output_type": "execute_result"
    }
   ],
   "source": [
    "encrypt('Get this message to the main server',13)"
   ]
  },
  {
   "cell_type": "markdown",
   "metadata": {},
   "source": [
    "## Decryption\n",
    "\n",
    "Now create a new function that will \"decrypt\" a shifted message. It should basically do the reverse of the encryption function. The process will be very similar as your previous function, but the alphabets will be switched."
   ]
  },
  {
   "cell_type": "code",
   "execution_count": 63,
   "metadata": {},
   "outputs": [],
   "source": [
    "def decrypt(text,shift):\n",
    "    '''\n",
    "    INPUT: A shifted message and the integer shift value\n",
    "    OUTPUT: The plain text original message.\n",
    "    '''\n",
    "    \n",
    "    # Create a normal plain alphabet\n",
    "    import string\n",
    "    alphabet = string.ascii_lowercase\n",
    "    \n",
    "    # Create a shifted version of this alphabet with the shift value.\n",
    "    caeser = alphabet[shift:] + alphabet[:shift]\n",
    "    \n",
    "    # Use a for loop to go through each character in the encrypted message.\n",
    "    # Then figure out its index match in the plain alphabet and replace.\n",
    "    # It might be helpful to create an output variable to hold the new message.\n",
    "    punctuation = list(string.punctuation + string.whitespace)\n",
    "    \n",
    "    output = []\n",
    "    for letter in list(text.lower()):\n",
    "        if letter in punctuation:\n",
    "            output.append(letter)\n",
    "        else:\n",
    "            index = caeser.index(letter)\n",
    "            output.append(alphabet[index])  \n",
    "            \n",
    "    # Keep in mind you may want to skip punctuation with an if statement.\n",
    "    \n",
    "    # Return the original message. Use ''.join() method \n",
    "    # if you still have it as a list.\n",
    "    return \"\".join(output)\n",
    "\n",
    "    #pass"
   ]
  },
  {
   "cell_type": "markdown",
   "metadata": {},
   "source": [
    "** Here is an example output: **"
   ]
  },
  {
   "cell_type": "code",
   "execution_count": 64,
   "metadata": {},
   "outputs": [
    {
     "data": {
      "text/plain": [
       "'get this message to the main server'"
      ]
     },
     "execution_count": 64,
     "metadata": {},
     "output_type": "execute_result"
    }
   ],
   "source": [
    "decrypt('trg guvf zrffntr gb gur znva freire',13)"
   ]
  },
  {
   "cell_type": "markdown",
   "metadata": {},
   "source": [
    "## Brute Force Method\n",
    "\n",
    "There is no gaurantee that the person on the other end will know the correct shift value. In that case we need a function that can brute force through every possible shift value and print out each outcome. Then a user could quickly read through the printed messages and find the one that is readable.\n",
    "\n",
    "** In case you aren't given the shift factor number, create a function that prints out every possible shifted string given an encrypted string. **"
   ]
  },
  {
   "cell_type": "code",
   "execution_count": 71,
   "metadata": {},
   "outputs": [],
   "source": [
    "def brute_force(message):\n",
    "    \"\"\"\n",
    "    INPUT: A shifted message\n",
    "    OUTPUT: Prints out every possible shifted message. \n",
    "            One of the printed outputs should be readable.\n",
    "    \"\"\"\n",
    "    \n",
    "    # Use your previous decrypt() method and call it for every possible shift\n",
    "    # using a For Loop.\n",
    "    import string\n",
    "    alphabet = string.ascii_lowercase\n",
    "    \n",
    "    for n in range(0,len(alphabet)):\n",
    "        print(\"Decryption using shift {}: {}\\n\".format(n, decrypt(message,n).upper()))\n",
    "    \n",
    "    # Print out the result of each shift.\n",
    "    #pass"
   ]
  },
  {
   "cell_type": "markdown",
   "metadata": {},
   "source": [
    "** An example output: **"
   ]
  },
  {
   "cell_type": "code",
   "execution_count": 72,
   "metadata": {},
   "outputs": [
    {
     "name": "stdout",
     "output_type": "stream",
     "text": [
      "Decryption using shift 0: TRG GUVF ZRFFNTR GB GUR ZNVA FREIRE\n",
      "\n",
      "Decryption using shift 1: SQF FTUE YQEEMSQ FA FTQ YMUZ EQDHQD\n",
      "\n",
      "Decryption using shift 2: RPE ESTD XPDDLRP EZ ESP XLTY DPCGPC\n",
      "\n",
      "Decryption using shift 3: QOD DRSC WOCCKQO DY DRO WKSX COBFOB\n",
      "\n",
      "Decryption using shift 4: PNC CQRB VNBBJPN CX CQN VJRW BNAENA\n",
      "\n",
      "Decryption using shift 5: OMB BPQA UMAAIOM BW BPM UIQV AMZDMZ\n",
      "\n",
      "Decryption using shift 6: NLA AOPZ TLZZHNL AV AOL THPU ZLYCLY\n",
      "\n",
      "Decryption using shift 7: MKZ ZNOY SKYYGMK ZU ZNK SGOT YKXBKX\n",
      "\n",
      "Decryption using shift 8: LJY YMNX RJXXFLJ YT YMJ RFNS XJWAJW\n",
      "\n",
      "Decryption using shift 9: KIX XLMW QIWWEKI XS XLI QEMR WIVZIV\n",
      "\n",
      "Decryption using shift 10: JHW WKLV PHVVDJH WR WKH PDLQ VHUYHU\n",
      "\n",
      "Decryption using shift 11: IGV VJKU OGUUCIG VQ VJG OCKP UGTXGT\n",
      "\n",
      "Decryption using shift 12: HFU UIJT NFTTBHF UP UIF NBJO TFSWFS\n",
      "\n",
      "Decryption using shift 13: GET THIS MESSAGE TO THE MAIN SERVER\n",
      "\n",
      "Decryption using shift 14: FDS SGHR LDRRZFD SN SGD LZHM RDQUDQ\n",
      "\n",
      "Decryption using shift 15: ECR RFGQ KCQQYEC RM RFC KYGL QCPTCP\n",
      "\n",
      "Decryption using shift 16: DBQ QEFP JBPPXDB QL QEB JXFK PBOSBO\n",
      "\n",
      "Decryption using shift 17: CAP PDEO IAOOWCA PK PDA IWEJ OANRAN\n",
      "\n",
      "Decryption using shift 18: BZO OCDN HZNNVBZ OJ OCZ HVDI NZMQZM\n",
      "\n",
      "Decryption using shift 19: AYN NBCM GYMMUAY NI NBY GUCH MYLPYL\n",
      "\n",
      "Decryption using shift 20: ZXM MABL FXLLTZX MH MAX FTBG LXKOXK\n",
      "\n",
      "Decryption using shift 21: YWL LZAK EWKKSYW LG LZW ESAF KWJNWJ\n",
      "\n",
      "Decryption using shift 22: XVK KYZJ DVJJRXV KF KYV DRZE JVIMVI\n",
      "\n",
      "Decryption using shift 23: WUJ JXYI CUIIQWU JE JXU CQYD IUHLUH\n",
      "\n",
      "Decryption using shift 24: VTI IWXH BTHHPVT ID IWT BPXC HTGKTG\n",
      "\n",
      "Decryption using shift 25: USH HVWG ASGGOUS HC HVS AOWB GSFJSF\n",
      "\n"
     ]
    }
   ],
   "source": [
    "brute_force('trg guvf zrffntr gb gur znva freire')"
   ]
  },
  {
   "cell_type": "code",
   "execution_count": null,
   "metadata": {},
   "outputs": [],
   "source": []
  }
 ],
 "metadata": {
  "kernelspec": {
   "display_name": "Python 3",
   "language": "python",
   "name": "python3"
  },
  "language_info": {
   "codemirror_mode": {
    "name": "ipython",
    "version": 3
   },
   "file_extension": ".py",
   "mimetype": "text/x-python",
   "name": "python",
   "nbconvert_exporter": "python",
   "pygments_lexer": "ipython3",
   "version": "3.7.4"
  }
 },
 "nbformat": 4,
 "nbformat_minor": 2
}
