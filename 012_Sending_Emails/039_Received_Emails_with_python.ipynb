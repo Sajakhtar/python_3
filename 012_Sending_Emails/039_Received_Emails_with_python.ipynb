{
 "cells": [
  {
   "cell_type": "markdown",
   "metadata": {},
   "source": [
    "# Overview of Received Emails\n",
    "\n",
    "Now that we understand how to send emails progammatically with Python, let's explore how we can read and search recieved emails. To do we will use the built-in [imaplib library](https://docs.python.org/3/library/imaplib.html#imap4-example). We will also use the built in [email](https://docs.python.org/3/library/email.examples.html) library for parsing through the recieved emails."
   ]
  },
  {
   "cell_type": "markdown",
   "metadata": {},
   "source": [
    "## Searching Mail\n",
    "\n",
    "Now that we have connected to our mail, we should be able to search for it using the specialized syntax of IMAP. Here are the different search keys you can use:"
   ]
  },
  {
   "cell_type": "markdown",
   "metadata": {},
   "source": [
    "<table border='1' >\n",
    "    <tr >\n",
    "        <th align='center'>Keyword </th>\n",
    "        <th align='center'>Definition</th>\n",
    "    </tr>\n",
    "    <tr>\n",
    "        <td>'ALL'</td>\n",
    "        <td>\n",
    "        Returns all messages in your email folder. Often there are size limits from imaplib.\n",
    "        To change these use imaplib._MAXLINE = 100 , where 100 is whatever you want the limit to be.\n",
    "        </td>\n",
    "    </tr>    \n",
    "    <tr>\n",
    "        <td>'BEFORE date'</td>\n",
    "        <td>\n",
    "        Returns all messages before the date. Date must be formatted as 01-Nov-2000.\n",
    "        </td>\n",
    "    </tr>    \n",
    "     <tr>\n",
    "        <td>'ON date'</td>\n",
    "        <td>\n",
    "        Returns all messages on the date. Date must be formatted as 01-Nov-2000.\n",
    "        </td>\n",
    "    </tr>    \n",
    "     <tr>\n",
    "        <td>'SINCE date'</td>\n",
    "        <td>\n",
    "        Returns all messages after the date. Date must be formatted as 01-Nov-2000.\n",
    "        </td>\n",
    "    </tr>    \n",
    "    <tr>\n",
    "        <td>'FROM some_string '</td>\n",
    "        <td>\n",
    "        Returns all from the sender in the string. String can be an email, for example 'FROM               user@example.com' or just a string that may appear in the email, \"FROM example\"\n",
    "        </td>\n",
    "    </tr>    \n",
    "    <tr>\n",
    "        <td>'TO some_string'</td>\n",
    "        <td>\n",
    "        Returns all outgoing email to the email in the string. String can be an email, for example 'FROM user@example.com' or just a string that may appear in the email, \"FROM example\"\n",
    "        </td>\n",
    "    </tr>    \n",
    "    <tr>\n",
    "        <td>'CC some_string' and/or 'BCC some_string'</td>\n",
    "        <td>\n",
    "        Returns all messages in your email folder. Often there are size limits from imaplib.\n",
    "        To change these use imaplib._MAXLINE = 100 , where 100 is whatever you want the limit to be.\n",
    "        </td>\n",
    "    </tr>    \n",
    "    <tr>\n",
    "        <td>'SUBJECT string','BODY string','TEXT \"string with spaces\"'</td>\n",
    "        <td>\n",
    "        Returns all messages with the subject string or the string in the body of the email. If the string you are searching for has spaces in it, wrap it in double quotes.\n",
    "        </td>\n",
    "    </tr>    \n",
    "    <tr>\n",
    "        <td>'SEEN', 'UNSEEN'</td>\n",
    "        <td>\n",
    "        Returns all messages that have been seen or unseen. (Also known as read or unread)\n",
    "        </td>\n",
    "    </tr>    \n",
    "        <tr>\n",
    "        <td>'ANSWERED', 'UNANSWERED'</td>\n",
    "        <td>\n",
    "        Returns all messages that have been replied to or unreplied to. \n",
    "        </td>\n",
    "    </tr>    \n",
    "        <tr>\n",
    "        <td>'DELETED', 'UNDELETED'</td>\n",
    "        <td>\n",
    "        Returns all messages that have been deleted or that have not been deleted.\n",
    "        </td>\n",
    "    </tr>  \n",
    "    \n",
    "</table>"
   ]
  },
  {
   "cell_type": "markdown",
   "metadata": {},
   "source": [
    "You can also use the logical operators AND and OR to combine the above statements. Check out the full list of search keys here: http://www.4d.com/docs/CMU/CMU88864.HTM.\n",
    "\n",
    "Please note that some IMAP server providers for different email services will have slightly different syntax. You may need to experiment to get the results you want.\n",
    "\n",
    "___________\n",
    "___________\n",
    "\n",
    "Now we can search our mail for any term we want.  "
   ]
  },
  {
   "cell_type": "markdown",
   "metadata": {},
   "source": [
    "Send yourself a test email with the subject line:\n",
    "\n",
    "    Python Test\n",
    "\n",
    "Or some other uniquely identifying string.    \n",
    "\n",
    "We will now need to reconnect to our imap server. You will probably need to restart your kernel for this step if you are using jupyter notebook."
   ]
  },
  {
   "cell_type": "code",
   "execution_count": 1,
   "metadata": {},
   "outputs": [],
   "source": [
    "import imaplib"
   ]
  },
  {
   "cell_type": "code",
   "execution_count": 2,
   "metadata": {},
   "outputs": [],
   "source": [
    "# create instance of imaplib\n",
    "M = imaplib.IMAP4_SSL('imap.gmail.com') "
   ]
  },
  {
   "cell_type": "code",
   "execution_count": 3,
   "metadata": {},
   "outputs": [],
   "source": [
    "import getpass"
   ]
  },
  {
   "cell_type": "code",
   "execution_count": 4,
   "metadata": {},
   "outputs": [
    {
     "name": "stdout",
     "output_type": "stream",
     "text": [
      "Email: ········\n",
      "Password: ········\n"
     ]
    }
   ],
   "source": [
    "email = getpass.getpass('Email: ')\n",
    "password = getpass.getpass('Password: ') #zqmgvjgjmmvkkmae"
   ]
  },
  {
   "cell_type": "code",
   "execution_count": 5,
   "metadata": {},
   "outputs": [
    {
     "data": {
      "text/plain": [
       "('OK', [b'saj.smv@gmail.com authenticated (Success)'])"
      ]
     },
     "execution_count": 5,
     "metadata": {},
     "output_type": "execute_result"
    }
   ],
   "source": [
    "M.login(email, password) #login"
   ]
  },
  {
   "cell_type": "code",
   "execution_count": 7,
   "metadata": {},
   "outputs": [
    {
     "data": {
      "text/plain": [
       "('OK',\n",
       " [b'(\\\\HasNoChildren) \"/\" \"INBOX\"',\n",
       "  b'(\\\\HasNoChildren) \"/\" \"Invoices\"',\n",
       "  b'(\\\\HasChildren \\\\Noselect) \"/\" \"[Gmail]\"',\n",
       "  b'(\\\\All \\\\HasNoChildren) \"/\" \"[Gmail]/All Mail\"',\n",
       "  b'(\\\\Drafts \\\\HasNoChildren) \"/\" \"[Gmail]/Drafts\"',\n",
       "  b'(\\\\HasNoChildren \\\\Important) \"/\" \"[Gmail]/Important\"',\n",
       "  b'(\\\\HasNoChildren \\\\Sent) \"/\" \"[Gmail]/Sent Mail\"',\n",
       "  b'(\\\\HasNoChildren \\\\Junk) \"/\" \"[Gmail]/Spam\"',\n",
       "  b'(\\\\Flagged \\\\HasNoChildren) \"/\" \"[Gmail]/Starred\"',\n",
       "  b'(\\\\HasNoChildren \\\\Trash) \"/\" \"[Gmail]/Trash\"'])"
      ]
     },
     "execution_count": 7,
     "metadata": {},
     "output_type": "execute_result"
    }
   ],
   "source": [
    "M.list() # list folders or gmail labels"
   ]
  },
  {
   "cell_type": "code",
   "execution_count": 8,
   "metadata": {},
   "outputs": [
    {
     "data": {
      "text/plain": [
       "('OK', [b'476'])"
      ]
     },
     "execution_count": 8,
     "metadata": {},
     "output_type": "execute_result"
    }
   ],
   "source": [
    "# Connect to your inbox\n",
    "M.select('inbox')"
   ]
  },
  {
   "cell_type": "markdown",
   "metadata": {},
   "source": [
    "Let's now search and confirm if it is there:"
   ]
  },
  {
   "cell_type": "code",
   "execution_count": 9,
   "metadata": {},
   "outputs": [],
   "source": [
    "# tuple unpacking\n",
    "typ, data = M.search(None, 'SUBJECT \"Python Test\"') # 2nd param is IMAP syntx (see table) e.g. \"BEFORE date\""
   ]
  },
  {
   "cell_type": "markdown",
   "metadata": {},
   "source": [
    "We can now save what it has returned:"
   ]
  },
  {
   "cell_type": "code",
   "execution_count": 10,
   "metadata": {},
   "outputs": [
    {
     "data": {
      "text/plain": [
       "'OK'"
      ]
     },
     "execution_count": 10,
     "metadata": {},
     "output_type": "execute_result"
    }
   ],
   "source": [
    "typ"
   ]
  },
  {
   "cell_type": "code",
   "execution_count": 12,
   "metadata": {},
   "outputs": [
    {
     "data": {
      "text/plain": [
       "[b'475']"
      ]
     },
     "execution_count": 12,
     "metadata": {},
     "output_type": "execute_result"
    }
   ],
   "source": [
    "data\n",
    "# return no number, means there were no messages matching search\n",
    "# 1 number, means there was 1 message matching search\n",
    "#  more than 1 number, means there was more than 1 message matching search"
   ]
  },
  {
   "cell_type": "markdown",
   "metadata": {},
   "source": [
    "The data will be a list of unique ids."
   ]
  },
  {
   "cell_type": "code",
   "execution_count": 14,
   "metadata": {},
   "outputs": [],
   "source": [
    "email_id = data[0] # unique ID of email"
   ]
  },
  {
   "cell_type": "code",
   "execution_count": 15,
   "metadata": {},
   "outputs": [],
   "source": [
    "result, email_data = M.fetch(email_id, '(RFC822)') # (RFC822) protocol"
   ]
  },
  {
   "cell_type": "code",
   "execution_count": 16,
   "metadata": {},
   "outputs": [
    {
     "data": {
      "text/plain": [
       "'OK'"
      ]
     },
     "execution_count": 16,
     "metadata": {},
     "output_type": "execute_result"
    }
   ],
   "source": [
    "result"
   ]
  },
  {
   "cell_type": "code",
   "execution_count": 18,
   "metadata": {},
   "outputs": [],
   "source": [
    "raw_email = email_data[0][1]"
   ]
  },
  {
   "cell_type": "code",
   "execution_count": 20,
   "metadata": {},
   "outputs": [],
   "source": [
    "raw_email_string = raw_email.decode('utf-8')"
   ]
  },
  {
   "cell_type": "code",
   "execution_count": 21,
   "metadata": {},
   "outputs": [
    {
     "data": {
      "text/plain": [
       "'Bcc: saj.smv@gmail.com\\r\\nReturn-Path: <saj.smv@gmail.com>\\r\\nReceived: from WKWAE0554867.global.publicisgroupe.net ([94.204.251.234])\\r\\n        by smtp.gmail.com with ESMTPSA id t13sm7394637lfc.68.2020.03.30.02.51.59\\r\\n        for <saj.smv@gmail.com>\\r\\n        (version=TLS1_3 cipher=TLS_AES_256_GCM_SHA384 bits=256/256);\\r\\n        Mon, 30 Mar 2020 02:52:00 -0700 (PDT)\\r\\nMessage-ID: <5e81c140.1c69fb81.e51f4.67e8@mx.google.com>\\r\\nDate: Mon, 30 Mar 2020 02:52:00 -0700 (PDT)\\r\\nFrom: saj.smv@gmail.com\\r\\nSubject: Python Test\\r\\n\\r\\nthis is a test send from python\\r\\n'"
      ]
     },
     "execution_count": 21,
     "metadata": {},
     "output_type": "execute_result"
    }
   ],
   "source": [
    "raw_email_string"
   ]
  },
  {
   "cell_type": "markdown",
   "metadata": {},
   "source": [
    "We can use the built in email library to help parse this raw string."
   ]
  },
  {
   "cell_type": "code",
   "execution_count": 24,
   "metadata": {},
   "outputs": [],
   "source": [
    "import email"
   ]
  },
  {
   "cell_type": "code",
   "execution_count": 25,
   "metadata": {},
   "outputs": [],
   "source": [
    "email_message = email.message_from_string(raw_email_string)"
   ]
  },
  {
   "cell_type": "code",
   "execution_count": 28,
   "metadata": {},
   "outputs": [
    {
     "name": "stdout",
     "output_type": "stream",
     "text": [
      "b'this is a test send from python\\r\\n'\n"
     ]
    }
   ],
   "source": [
    "# walk through email message\n",
    "# check for text/html if youre looking for a link\n",
    "for part in email_message.walk():\n",
    "    if part.get_content_type() == 'text/plain':\n",
    "        body = part.get_payload(decode=True)\n",
    "        print(body)"
   ]
  },
  {
   "cell_type": "markdown",
   "metadata": {},
   "source": [
    "Excellent! We've successfully have been able to check our email's inbox , filter by some condition, and read the body of the text that was there. This will come in handy in the near future!"
   ]
  },
  {
   "cell_type": "code",
   "execution_count": null,
   "metadata": {},
   "outputs": [],
   "source": []
  }
 ],
 "metadata": {
  "kernelspec": {
   "display_name": "Python 3",
   "language": "python",
   "name": "python3"
  },
  "language_info": {
   "codemirror_mode": {
    "name": "ipython",
    "version": 3
   },
   "file_extension": ".py",
   "mimetype": "text/x-python",
   "name": "python",
   "nbconvert_exporter": "python",
   "pygments_lexer": "ipython3",
   "version": "3.7.4"
  }
 },
 "nbformat": 4,
 "nbformat_minor": 2
}
